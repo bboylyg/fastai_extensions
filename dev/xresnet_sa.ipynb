{
 "cells": [
  {
   "cell_type": "code",
   "execution_count": 44,
   "metadata": {
    "ExecuteTime": {
     "end_time": "2019-07-29T16:44:30.806705Z",
     "start_time": "2019-07-29T16:44:30.800563Z"
    }
   },
   "outputs": [
    {
     "data": {
      "application/javascript": [
       "utils.load_extension('collapsible_headings/main')\n",
       "utils.load_extension('hide_input/main')\n",
       "utils.load_extension('autosavetime/main')\n",
       "utils.load_extension('execute_time/ExecuteTime')\n",
       "utils.load_extension('table_beautifier/main')\n",
       "utils.load_extension('code_prettify/code_prettify')\n",
       "utils.load_extension('scroll_down/main')\n",
       "utils.load_extension('jupyter-js-widgets/extension')\n"
      ],
      "text/plain": [
       "<IPython.core.display.Javascript object>"
      ]
     },
     "metadata": {},
     "output_type": "display_data"
    }
   ],
   "source": [
    "%%javascript\n",
    "utils.load_extension('collapsible_headings/main')\n",
    "utils.load_extension('hide_input/main')\n",
    "utils.load_extension('autosavetime/main')\n",
    "utils.load_extension('execute_time/ExecuteTime')\n",
    "utils.load_extension('table_beautifier/main')\n",
    "utils.load_extension('code_prettify/code_prettify')\n",
    "utils.load_extension('scroll_down/main')\n",
    "utils.load_extension('jupyter-js-widgets/extension')"
   ]
  },
  {
   "cell_type": "code",
   "execution_count": null,
   "metadata": {
    "ExecuteTime": {
     "start_time": "2019-07-29T16:44:30.736Z"
    }
   },
   "outputs": [],
   "source": [
    "#export\n",
    "\n",
    "# adapted from https://github.com/fastai/fastai/blob/master/fastai/vision/models/xresnet.py\n",
    "# added simple self attention layer, conv1d\n",
    "# ideally conv1d should have been available from fast.ai's layers.py/ or SSA layer should be in layers.py\n",
    "# added sa option to XResNet class\n",
    "# added sa to ResBlock class, xresnet function\n",
    "# added import fastai.torch_core for spectral norm and tensor \n",
    "# changed xresnet stem sizes to sizes = [c_in,32,64,64]\n",
    "\n",
    "from fastai.torch_core import *\n",
    "\n",
    "import torch.nn as nn\n",
    "import torch,math,sys\n",
    "import torch.utils.model_zoo as model_zoo\n",
    "from functools import partial\n",
    "\n",
    "__all__ = ['XResNet', 'xresnet18', 'xresnet34', 'xresnet50', 'xresnet101', 'xresnet152']\n",
    "\n",
    "# or: ELU+init (a=0.54; gain=1.55)\n",
    "act_fn = nn.ReLU(inplace=True)\n",
    "\n",
    "\n",
    "#Unmodified from https://github.com/fastai/fastai/blob/5c51f9eabf76853a89a9bc5741804d2ed4407e49/fastai/layers.py\n",
    "def conv1d(ni:int, no:int, ks:int=1, stride:int=1, padding:int=0, bias:bool=False):\n",
    "    \"Create and initialize a `nn.Conv1d` layer with spectral normalization.\"\n",
    "    conv = nn.Conv1d(ni, no, ks, stride=stride, padding=padding, bias=bias)\n",
    "    nn.init.kaiming_normal_(conv.weight)\n",
    "    if bias: conv.bias.data.zero_()\n",
    "    return spectral_norm(conv)\n",
    "\n",
    "\n",
    "# Adapted from SelfAttention layer at https://github.com/fastai/fastai/blob/5c51f9eabf76853a89a9bc5741804d2ed4407e49/fastai/layers.py\n",
    "# Inspired by https://arxiv.org/pdf/1805.08318.pdf\n",
    "class SimpleSelfAttention(nn.Module):\n",
    "    def __init__(self, n_in: int, ks=1):\n",
    "        super().__init__()\n",
    "        self.conv = conv1d(n_in, n_in, ks, padding=ks // 2, bias=False)\n",
    "        self.gamma = nn.Parameter(tensor([0.]))\n",
    "\n",
    "    def forward(self, x):\n",
    "        size = x.size()\n",
    "        x = x.view(*size[:2], -1)\n",
    "        o = torch.bmm(x.permute(0, 2, 1).contiguous(), self.conv(x))\n",
    "        o = self.gamma * torch.bmm(x, o) + x\n",
    "        return o.view(*size).contiguous()\n",
    "        \n",
    "        \n",
    "class Flatten(nn.Module):\n",
    "    def forward(self, x): return x.view(x.size(0), -1)\n",
    "\n",
    "    \n",
    "def init_cnn(m):\n",
    "    if getattr(m, 'bias', None) is not None: nn.init.constant_(m.bias, 0)\n",
    "    if isinstance(m, (nn.Conv2d,nn.Linear)): nn.init.kaiming_normal_(m.weight)\n",
    "    for l in m.children(): init_cnn(l)\n",
    "\n",
    "        \n",
    "def conv(ni, nf, ks=3, stride=1, bias=False):\n",
    "    return nn.Conv2d(ni, nf, kernel_size=ks, stride=stride, padding=ks//2, bias=bias)\n",
    "\n",
    "\n",
    "def noop(x): return x\n",
    "\n",
    "\n",
    "def conv_layer(ni, nf, ks=3, stride=1, zero_bn=False, act=True):\n",
    "    bn = nn.BatchNorm2d(nf)\n",
    "    nn.init.constant_(bn.weight, 0. if zero_bn else 1.)\n",
    "    layers = [conv(ni, nf, ks, stride=stride), bn]\n",
    "    if act: layers.append(act_fn)\n",
    "    return nn.Sequential(*layers)\n",
    "\n",
    "\n",
    "class ResBlock(nn.Module):\n",
    "    def __init__(self, expansion, ni, nh, stride=1,sa=False, sym=False):\n",
    "        super().__init__()\n",
    "        nf,ni = nh*expansion,ni*expansion\n",
    "        layers  = [conv_layer(ni, nh, 3, stride=stride),\n",
    "                   conv_layer(nh, nf, 3, zero_bn=True, act=False)\n",
    "        ] if expansion == 1 else [\n",
    "                   conv_layer(ni, nh, 1),\n",
    "                   conv_layer(nh, nh, 3, stride=stride),\n",
    "                   conv_layer(nh, nf, 1, zero_bn=True, act=False)\n",
    "        ]\n",
    "        \n",
    "        self.sa = SimpleSelfAttention(nf,ks=1,sym=sym) if sa else noop\n",
    "        \n",
    "        self.convs = nn.Sequential(*layers)\n",
    "        # TODO: check whether act=True works better\n",
    "        self.idconv = noop if ni==nf else conv_layer(ni, nf, 1, act=False)\n",
    "        self.pool = noop if stride==1 else nn.AvgPool2d(2, ceil_mode=True)\n",
    "\n",
    "    def forward(self, x): return act_fn(self.sa(self.convs(x)) + self.idconv(self.pool(x)))\n",
    "\n",
    "    \n",
    "def filt_sz(recep): return min(64, 2**math.floor(math.log2(recep*0.75)))\n",
    "\n",
    "\n",
    "class XResNet(nn.Sequential):\n",
    "    def __init__(self, expansion, layers, c_in=3, c_out=1000, sa = False, sym= False):\n",
    "        \n",
    "        \n",
    "        stem = []\n",
    "        sizes = [c_in,32,64,64]\n",
    "        for i in range(3):\n",
    "            stem.append(conv_layer(sizes[i], sizes[i+1], stride=2 if i==0 else 1))\n",
    "            #nf = filt_sz(c_in*9)\n",
    "            #stem.append(conv_layer(c_in, nf, stride=2 if i==1 else 1))\n",
    "            #c_in = nf\n",
    "\n",
    "        block_szs = [64//expansion,64,128,256,512]\n",
    "        blocks = [self._make_layer(expansion, block_szs[i], block_szs[i+1], l, 1 if i==0 else 2, sa = sa if i in[len(layers)-4] else False, sym=sym)\n",
    "                  for i,l in enumerate(layers)]\n",
    "        super().__init__(\n",
    "            *stem,\n",
    "            nn.MaxPool2d(kernel_size=3, stride=2, padding=1),\n",
    "            *blocks,\n",
    "            nn.AdaptiveAvgPool2d(1), Flatten(),\n",
    "            nn.Linear(block_szs[-1]*expansion, c_out),\n",
    "        )\n",
    "        init_cnn(self)\n",
    "\n",
    "    def _make_layer(self, expansion, ni, nf, blocks, stride, sa=False, sym=False):\n",
    "        return nn.Sequential(\n",
    "            *[ResBlock(expansion, ni if i==0 else nf, nf, stride if i==0 else 1, sa if i in [blocks -1] else False,sym)\n",
    "              for i in range(blocks)])\n",
    "\n",
    "    \n",
    "def xresnet(expansion, n_layers, name, pretrained=False,  **kwargs):\n",
    "    model = XResNet(expansion, n_layers, **kwargs)\n",
    "    if pretrained: model.load_state_dict(model_zoo.load_url(model_urls[name]))\n",
    "    return model\n",
    "\n",
    "\n",
    "me = sys.modules[__name__]\n",
    "for n,e,l in [\n",
    "    [ 18 , 1, [2,2,2 ,2] ],\n",
    "    [ 34 , 1, [3,4,6 ,3] ],\n",
    "    [ 50 , 4, [3,4,6 ,3] ],\n",
    "    [ 101, 4, [3,4,23,3] ],\n",
    "    [ 152, 4, [3,8,36,3] ],\n",
    "]:\n",
    "    name = f'xresnet{n}'\n",
    "    setattr(me, name, partial(xresnet, expansion=e, n_layers=l, name=name))"
   ]
  },
  {
   "cell_type": "code",
   "execution_count": null,
   "metadata": {
    "ExecuteTime": {
     "start_time": "2019-07-29T16:44:30.742Z"
    }
   },
   "outputs": [
    {
     "data": {
      "application/javascript": [
       "{\n",
       "    const ip = IPython.notebook\n",
       "    if (ip) {\n",
       "        ip.save_notebook()\n",
       "        console.log('a')\n",
       "        const s = `!python notebook2script.py ${ip.notebook_name}`\n",
       "        if (ip.kernel) { ip.kernel.execute(s) }\n",
       "    }\n",
       "    }"
      ],
      "text/plain": [
       "<IPython.core.display.Javascript object>"
      ]
     },
     "metadata": {},
     "output_type": "display_data"
    },
    {
     "data": {
      "application/javascript": [
       "{\n",
       "    const ip = IPython.notebook\n",
       "    if (ip) {\n",
       "        ip.save_notebook()\n",
       "        console.log('a')\n",
       "        const s = `!python notebook2script.py ${ip.notebook_name}`\n",
       "        if (ip.kernel) { ip.kernel.execute(s) }\n",
       "    }\n",
       "    }"
      ],
      "text/plain": [
       "<IPython.core.display.Javascript object>"
      ]
     },
     "metadata": {},
     "output_type": "display_data"
    },
    {
     "data": {
      "application/javascript": [
       "{\n",
       "    const ip = IPython.notebook\n",
       "    if (ip) {\n",
       "        ip.save_notebook()\n",
       "        console.log('a')\n",
       "        const s = `!python notebook2script.py ${ip.notebook_name}`\n",
       "        if (ip.kernel) { ip.kernel.execute(s) }\n",
       "    }\n",
       "    }"
      ],
      "text/plain": [
       "<IPython.core.display.Javascript object>"
      ]
     },
     "metadata": {},
     "output_type": "display_data"
    },
    {
     "data": {
      "application/javascript": [
       "{\n",
       "    const ip = IPython.notebook\n",
       "    if (ip) {\n",
       "        ip.save_notebook()\n",
       "        console.log('a')\n",
       "        const s = `!python notebook2script.py ${ip.notebook_name}`\n",
       "        if (ip.kernel) { ip.kernel.execute(s) }\n",
       "    }\n",
       "    }"
      ],
      "text/plain": [
       "<IPython.core.display.Javascript object>"
      ]
     },
     "metadata": {},
     "output_type": "display_data"
    }
   ],
   "source": [
    "try: from exp.nb_utils import *\n",
    "except ImportError: from .nb_utils import *\n",
    "nb_auto_export()"
   ]
  },
  {
   "cell_type": "code",
   "execution_count": null,
   "metadata": {
    "ExecuteTime": {
     "start_time": "2019-07-29T16:19:01.474Z"
    },
    "scrolled": false
   },
   "outputs": [],
   "source": []
  }
 ],
 "metadata": {
  "kernelspec": {
   "display_name": "fastai-v1",
   "language": "python",
   "name": "fastai-v1"
  },
  "language_info": {
   "codemirror_mode": {
    "name": "ipython",
    "version": 3
   },
   "file_extension": ".py",
   "mimetype": "text/x-python",
   "name": "python",
   "nbconvert_exporter": "python",
   "pygments_lexer": "ipython3",
   "version": "3.7.2"
  }
 },
 "nbformat": 4,
 "nbformat_minor": 2
}

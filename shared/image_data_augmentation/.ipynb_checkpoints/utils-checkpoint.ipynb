{
 "cells": [
  {
   "cell_type": "code",
   "execution_count": 1,
   "metadata": {},
   "outputs": [],
   "source": [
    "#export\n",
    "\n",
    "from IPython.display import display, Javascript\n",
    "def nb_auto_export():\n",
    "    for i in range(5): \n",
    "        display(Javascript(\"\"\"{\n",
    "    const ip = IPython.notebook\n",
    "    if (ip) {\n",
    "        ip.save_notebook()\n",
    "        console.log('a')\n",
    "        const s = `!python notebook2script.py ${ip.notebook_name}`\n",
    "        if (ip.kernel) { ip.kernel.execute(s) }\n",
    "    }\n",
    "    }\"\"\"))"
   ]
  },
  {
   "cell_type": "code",
   "execution_count": 2,
   "metadata": {},
   "outputs": [
    {
     "data": {
      "application/javascript": [
       "{\n",
       "    const ip = IPython.notebook\n",
       "    if (ip) {\n",
       "        ip.save_notebook()\n",
       "        console.log('a')\n",
       "        const s = `!python notebook2script.py ${ip.notebook_name}`\n",
       "        if (ip.kernel) { ip.kernel.execute(s) }\n",
       "    }\n",
       "    }"
      ],
      "text/plain": [
       "<IPython.core.display.Javascript object>"
      ]
     },
     "metadata": {},
     "output_type": "display_data"
    },
    {
     "data": {
      "application/javascript": [
       "{\n",
       "    const ip = IPython.notebook\n",
       "    if (ip) {\n",
       "        ip.save_notebook()\n",
       "        console.log('a')\n",
       "        const s = `!python notebook2script.py ${ip.notebook_name}`\n",
       "        if (ip.kernel) { ip.kernel.execute(s) }\n",
       "    }\n",
       "    }"
      ],
      "text/plain": [
       "<IPython.core.display.Javascript object>"
      ]
     },
     "metadata": {},
     "output_type": "display_data"
    },
    {
     "data": {
      "application/javascript": [
       "{\n",
       "    const ip = IPython.notebook\n",
       "    if (ip) {\n",
       "        ip.save_notebook()\n",
       "        console.log('a')\n",
       "        const s = `!python notebook2script.py ${ip.notebook_name}`\n",
       "        if (ip.kernel) { ip.kernel.execute(s) }\n",
       "    }\n",
       "    }"
      ],
      "text/plain": [
       "<IPython.core.display.Javascript object>"
      ]
     },
     "metadata": {},
     "output_type": "display_data"
    },
    {
     "data": {
      "application/javascript": [
       "{\n",
       "    const ip = IPython.notebook\n",
       "    if (ip) {\n",
       "        ip.save_notebook()\n",
       "        console.log('a')\n",
       "        const s = `!python notebook2script.py ${ip.notebook_name}`\n",
       "        if (ip.kernel) { ip.kernel.execute(s) }\n",
       "    }\n",
       "    }"
      ],
      "text/plain": [
       "<IPython.core.display.Javascript object>"
      ]
     },
     "metadata": {},
     "output_type": "display_data"
    },
    {
     "data": {
      "application/javascript": [
       "{\n",
       "    const ip = IPython.notebook\n",
       "    if (ip) {\n",
       "        ip.save_notebook()\n",
       "        console.log('a')\n",
       "        const s = `!python notebook2script.py ${ip.notebook_name}`\n",
       "        if (ip.kernel) { ip.kernel.execute(s) }\n",
       "    }\n",
       "    }"
      ],
      "text/plain": [
       "<IPython.core.display.Javascript object>"
      ]
     },
     "metadata": {},
     "output_type": "display_data"
    }
   ],
   "source": [
    "nb_auto_export()"
   ]
  }
 ],
 "metadata": {
  "kernelspec": {
   "display_name": "fastai-v1",
   "language": "python",
   "name": "fastai-v1"
  },
  "language_info": {
   "codemirror_mode": {
    "name": "ipython",
    "version": 3
   },
   "file_extension": ".py",
   "mimetype": "text/x-python",
   "name": "python",
   "nbconvert_exporter": "python",
   "pygments_lexer": "ipython3",
   "version": "3.7.2"
  }
 },
 "nbformat": 4,
 "nbformat_minor": 2
}
